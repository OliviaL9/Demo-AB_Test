{
 "cells": [
  {
   "cell_type": "markdown",
   "id": "57c43ecc",
   "metadata": {},
   "source": [
    "# AB Test"
   ]
  },
  {
   "cell_type": "markdown",
   "id": "b34a029f",
   "metadata": {},
   "source": [
    "## Pre-Test: Design the test\n",
    "\n",
    "Independent variable: landing page\n",
    "\n",
    "Dependent variable: Converted\n",
    "\n",
    "Significance alpha = 0.05 (confidence level is 95%)\n",
    "\n",
    "2 Tailed test\n",
    "\n",
    "Sample size --> Determine by power analysis\n",
    "\n",
    "\n",
    "Goal: \n",
    "KPI: 3% --> 5% (2% increament for conversion rate)"
   ]
  },
  {
   "cell_type": "code",
   "execution_count": 1,
   "id": "22960e0c",
   "metadata": {},
   "outputs": [],
   "source": [
    "import pandas as pd\n",
    "import numpy as np\n",
    "import math\n",
    "\n",
    "import seaborn as sns\n",
    "import matplotlib.pyplot as plt\n",
    "\n",
    "from scipy.stats import sem\n",
    "import statsmodels.api as sm\n",
    "import statsmodels.stats.power as power\n",
    "from statsmodels.stats.proportion import proportions_ztest, proportion_confint"
   ]
  },
  {
   "cell_type": "markdown",
   "id": "185fd6ba",
   "metadata": {},
   "source": [
    "## Sample size"
   ]
  },
  {
   "cell_type": "markdown",
   "id": "a3f2cc2b",
   "metadata": {},
   "source": [
    "Power Analysis\n",
    "- alpha = 0.05\n",
    "- power = 0.8\n",
    "- effective size"
   ]
  },
  {
   "cell_type": "code",
   "execution_count": 2,
   "id": "d6c0ae7b",
   "metadata": {},
   "outputs": [
    {
     "name": "stdout",
     "output_type": "stream",
     "text": [
      "The Test needs 1484 samples for both control and treatment group.\n"
     ]
    }
   ],
   "source": [
    "effect_size = sm.stats.proportion_effectsize(0.03, 0.05)\n",
    "power_ratio = 0.8\n",
    "alpha = 0.05\n",
    "sample_size = power.NormalIndPower().solve_power(effect_size=effect_size, alpha=alpha, power=power_ratio)\n",
    "sample_size = int(math.ceil(sample_size))\n",
    "print(f'The Test needs {sample_size} samples for both control and treatment group.')"
   ]
  },
  {
   "cell_type": "markdown",
   "id": "a6d7e851",
   "metadata": {},
   "source": [
    "# Import Data"
   ]
  },
  {
   "cell_type": "code",
   "execution_count": 18,
   "id": "b293577e",
   "metadata": {},
   "outputs": [],
   "source": [
    "df = pd.read_csv('D:/Data Analysis/Projects/ab testing/ab_data.csv', parse_dates=['timestamp'])"
   ]
  },
  {
   "cell_type": "markdown",
   "id": "5566e678",
   "metadata": {},
   "source": [
    "## EDA & Preprocessing"
   ]
  },
  {
   "cell_type": "code",
   "execution_count": 19,
   "id": "ef7b5ef8",
   "metadata": {},
   "outputs": [
    {
     "name": "stdout",
     "output_type": "stream",
     "text": [
      "<class 'pandas.core.frame.DataFrame'>\n",
      "RangeIndex: 294478 entries, 0 to 294477\n",
      "Data columns (total 5 columns):\n",
      " #   Column        Non-Null Count   Dtype         \n",
      "---  ------        --------------   -----         \n",
      " 0   user_id       294478 non-null  int64         \n",
      " 1   timestamp     294478 non-null  datetime64[ns]\n",
      " 2   group         294478 non-null  object        \n",
      " 3   landing_page  294478 non-null  object        \n",
      " 4   converted     294478 non-null  int64         \n",
      "dtypes: datetime64[ns](1), int64(2), object(2)\n",
      "memory usage: 11.2+ MB\n",
      "None\n",
      "**************************************************\n",
      "['control' 'treatment']\n",
      "**************************************************\n",
      "['old_page' 'new_page']\n",
      "**************************************************\n",
      "landing_page  new_page  old_page\n",
      "group                           \n",
      "control           1928    145274\n",
      "treatment       145311      1965\n",
      "**************************************************\n",
      "805339    2\n",
      "754884    2\n",
      "722274    2\n",
      "783176    2\n",
      "898232    2\n",
      "         ..\n",
      "642985    1\n",
      "771499    1\n",
      "923606    1\n",
      "712675    1\n",
      "715931    1\n",
      "Name: user_id, Length: 290584, dtype: int64\n"
     ]
    }
   ],
   "source": [
    "print(df.info())\n",
    "print('*'*50)\n",
    "\n",
    "print(df.group.unique())\n",
    "print('*'*50)\n",
    "\n",
    "print(df.landing_page.unique())\n",
    "print('*'*50)\n",
    "\n",
    "print(pd.crosstab(df['group'], df['landing_page']))\n",
    "print('*'*50)\n",
    "\n",
    "print(df.user_id.value_counts())"
   ]
  },
  {
   "cell_type": "code",
   "execution_count": 8,
   "id": "f14b487e",
   "metadata": {
    "scrolled": true
   },
   "outputs": [
    {
     "name": "stdout",
     "output_type": "stream",
     "text": [
      "[1]\n",
      "851104    1\n",
      "701718    1\n",
      "646178    1\n",
      "715222    1\n",
      "886963    1\n",
      "Name: user_id, dtype: int64\n",
      "Int64Index([], dtype='int64')\n",
      "<class 'pandas.core.frame.DataFrame'>\n",
      "Int64Index: 286690 entries, 0 to 294477\n",
      "Data columns (total 5 columns):\n",
      " #   Column        Non-Null Count   Dtype         \n",
      "---  ------        --------------   -----         \n",
      " 0   user_id       286690 non-null  int64         \n",
      " 1   timestamp     286690 non-null  datetime64[ns]\n",
      " 2   group         286690 non-null  object        \n",
      " 3   landing_page  286690 non-null  object        \n",
      " 4   converted     286690 non-null  int64         \n",
      "dtypes: datetime64[ns](1), int64(2), object(2)\n",
      "memory usage: 13.1+ MB\n",
      "None\n"
     ]
    }
   ],
   "source": [
    "# remove duplicates\n",
    "counts = df['user_id'].value_counts()\n",
    "print(counts.unique())\n",
    "print(counts.head())\n",
    "\n",
    "duplicate_list = counts[counts > 1].index\n",
    "print(duplicate_list)\n",
    "\n",
    "df = df[~df['user_id'].isin(duplicate_list)]\n",
    "print(df.info())"
   ]
  },
  {
   "cell_type": "markdown",
   "id": "5973a2e2",
   "metadata": {},
   "source": [
    "## Sampling"
   ]
  },
  {
   "cell_type": "code",
   "execution_count": 20,
   "id": "7e677dc4",
   "metadata": {
    "scrolled": true
   },
   "outputs": [
    {
     "name": "stdout",
     "output_type": "stream",
     "text": [
      "<class 'pandas.core.frame.DataFrame'>\n",
      "Int64Index: 1484 entries, 35410 to 275094\n",
      "Data columns (total 5 columns):\n",
      " #   Column        Non-Null Count  Dtype         \n",
      "---  ------        --------------  -----         \n",
      " 0   user_id       1484 non-null   int64         \n",
      " 1   timestamp     1484 non-null   datetime64[ns]\n",
      " 2   group         1484 non-null   object        \n",
      " 3   landing_page  1484 non-null   object        \n",
      " 4   converted     1484 non-null   int64         \n",
      "dtypes: datetime64[ns](1), int64(2), object(2)\n",
      "memory usage: 69.6+ KB\n",
      "None\n",
      "<class 'pandas.core.frame.DataFrame'>\n",
      "Int64Index: 1484 entries, 113789 to 96289\n",
      "Data columns (total 5 columns):\n",
      " #   Column        Non-Null Count  Dtype         \n",
      "---  ------        --------------  -----         \n",
      " 0   user_id       1484 non-null   int64         \n",
      " 1   timestamp     1484 non-null   datetime64[ns]\n",
      " 2   group         1484 non-null   object        \n",
      " 3   landing_page  1484 non-null   object        \n",
      " 4   converted     1484 non-null   int64         \n",
      "dtypes: datetime64[ns](1), int64(2), object(2)\n",
      "memory usage: 69.6+ KB\n",
      "None\n"
     ]
    }
   ],
   "source": [
    "df_control = df[df['group'] == 'control'].sample(n=sample_size, random_state=10)\n",
    "df_treatment = df[df['group'] == 'treatment'].sample(n=sample_size, random_state=10)\n",
    "\n",
    "print(df_treatment.info())\n",
    "print(df_control.info())"
   ]
  },
  {
   "cell_type": "code",
   "execution_count": 21,
   "id": "6467fa84",
   "metadata": {
    "scrolled": true
   },
   "outputs": [
    {
     "name": "stdout",
     "output_type": "stream",
     "text": [
      "      user_id                  timestamp      group landing_page  converted\n",
      "0      676180 2017-01-16 19:09:08.287087    control     old_page          0\n",
      "1      672641 2017-01-08 15:07:32.333099    control     old_page          0\n",
      "2      850786 2017-01-07 15:12:46.888378    control     old_page          0\n",
      "3      659451 2017-01-18 16:09:49.234681    control     old_page          1\n",
      "4      937178 2017-01-19 00:16:20.229199    control     old_page          0\n",
      "...       ...                        ...        ...          ...        ...\n",
      "2963   935763 2017-01-17 19:34:43.794266  treatment     new_page          0\n",
      "2964   928864 2017-01-04 06:22:11.071003  treatment     new_page          0\n",
      "2965   707979 2017-01-14 19:34:55.828007  treatment     new_page          0\n",
      "2966   802395 2017-01-23 22:32:06.115912  treatment     new_page          0\n",
      "2967   655565 2017-01-10 02:02:35.032188  treatment     new_page          0\n",
      "\n",
      "[2968 rows x 5 columns]\n"
     ]
    }
   ],
   "source": [
    "# concat two df\n",
    "df_sample = pd.concat([df_control, df_treatment])\n",
    "df_sample.reset_index(drop=True, inplace=True)\n",
    "print(df_sample)"
   ]
  },
  {
   "cell_type": "code",
   "execution_count": 11,
   "id": "4d590bee",
   "metadata": {},
   "outputs": [
    {
     "name": "stdout",
     "output_type": "stream",
     "text": [
      "           Conv_Rate       Std       Str\n",
      "group                                   \n",
      "control     0.125337  0.331212  0.008598\n",
      "treatment   0.119272  0.324218  0.008416\n"
     ]
    },
    {
     "data": {
      "image/png": "[encoded data removed]",
      "text/plain": [
       "<Figure size 640x480 with 1 Axes>"
      ]
     },
     "metadata": {},
     "output_type": "display_data"
    }
   ],
   "source": [
    "# calculate conversion rate\n",
    "conv = df_sample.groupby(['group'])['converted']\n",
    "summary = conv.agg([np.mean, np.std, sem])\n",
    "summary.columns = ['Conv_Rate', 'Std', 'Str']\n",
    "print(summary)\n",
    "\n",
    "sns.barplot(x=df_sample['group'], y=df_sample['converted'])\n",
    "plt.show()"
   ]
  },
  {
   "cell_type": "code",
   "execution_count": 15,
   "id": "bb4f6ca0",
   "metadata": {},
   "outputs": [
    {
     "name": "stdout",
     "output_type": "stream",
     "text": [
      "0.6141090608325716>0.05, Fail to reject Null hypoethesis, AB groups are similar\n"
     ]
    }
   ],
   "source": [
    "# significantly different?\n",
    "control_result = df_sample[df_sample['group'] == 'control']['converted']\n",
    "treatment_result = df_sample[df_sample['group'] == 'treatment']['converted']\n",
    "\n",
    "control_num = control_result.count()\n",
    "treatment_num = treatment_result.count()\n",
    "\n",
    "z_stat, pvalue = proportions_ztest([control_result.sum(), treatment_result.sum()], [control_num, treatment_num])\n",
    "\n",
    "if pvalue > 0.05:\n",
    "    print(f\"{pvalue}>0.05, Fail to reject Null hypoethesis, AB groups are similar\")\n",
    "else:\n",
    "    print(f\"{pvalue}<0.05, reject Null hypoethesis, AB groups are not similar\")"
   ]
  },
  {
   "cell_type": "code",
   "execution_count": 17,
   "id": "5a49f765",
   "metadata": {
    "scrolled": true
   },
   "outputs": [
    {
     "name": "stdout",
     "output_type": "stream",
     "text": [
      "Lowerbound for control is 0.1085 | Upperbound for control is 0.1422\n",
      "Lowerbound for treatment is 0.1028 | Upperbound for treatment is 0.1358\n"
     ]
    }
   ],
   "source": [
    "# Has the conversion rate raise in the treatment? If so, what %\n",
    "(lb_control,lb_treatment), (ub_control,ub_treatment) = proportion_confint([control_result.sum(), treatment_result.sum()], [control_num, treatment_num], alpha = 0.05)\n",
    "print(f'Lowerbound for control is {lb_control:.4f} | Upperbound for control is {ub_control:.4f}')\n",
    "print(f'Lowerbound for treatment is {lb_treatment:.4f} | Upperbound for treatment is {round(ub_treatment, 4)}')"
   ]
  }
 ],
 "metadata": {
  "kernelspec": {
   "display_name": "Python 3 (ipykernel)",
   "language": "python",
   "name": "python3"
  },
  "language_info": {
   "codemirror_mode": {
    "name": "ipython",
    "version": 3
   },
   "file_extension": ".py",
   "mimetype": "text/x-python",
   "name": "python",
   "nbconvert_exporter": "python",
   "pygments_lexer": "ipython3",
   "version": "3.9.13"
  }
 },
 "nbformat": 4,
 "nbformat_minor": 5
}
